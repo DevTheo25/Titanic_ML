{
 "cells": [
  {
   "cell_type": "markdown",
   "id": "280ed172",
   "metadata": {},
   "source": [
    "# Análise Titanic"
   ]
  },
  {
   "cell_type": "markdown",
   "id": "4b9d2865",
   "metadata": {},
   "source": [
    "![Imagem](Files/img.png)"
   ]
  },
  {
   "cell_type": "markdown",
   "id": "9f1e3c8b",
   "metadata": {},
   "source": [
    " - Replicando os mesmos tramentos da [Segunda análise.](https://github.com/DevTheo25/Titanic_ML/blob/main/Segunda_analise.ipynb) "
   ]
  },
  {
   "cell_type": "markdown",
   "id": "8a74b97a",
   "metadata": {},
   "source": [
    "## Terceira Análise\n",
    " - Nessa análise vamos implementar uma nova coluna **Mr_Miss_in_Name** que vai receber o valor se o passageiro tem **Mr** ou **Miss** no nome"
   ]
  },
  {
   "cell_type": "code",
   "execution_count": 132,
   "id": "1eb890f3",
   "metadata": {},
   "outputs": [],
   "source": [
    "# Importando pandas\n",
    "import pandas as pd"
   ]
  },
  {
   "cell_type": "code",
   "execution_count": 133,
   "id": "aafcf53c",
   "metadata": {},
   "outputs": [],
   "source": [
    "# Lendo e visualizando a base de dados Treino\n",
    "train = pd.read_csv(\"Files/train.csv\")"
   ]
  },
  {
   "cell_type": "code",
   "execution_count": 134,
   "id": "21a4e414",
   "metadata": {},
   "outputs": [
    {
     "data": {
      "text/html": [
       "<div>\n",
       "<style scoped>\n",
       "    .dataframe tbody tr th:only-of-type {\n",
       "        vertical-align: middle;\n",
       "    }\n",
       "\n",
       "    .dataframe tbody tr th {\n",
       "        vertical-align: top;\n",
       "    }\n",
       "\n",
       "    .dataframe thead th {\n",
       "        text-align: right;\n",
       "    }\n",
       "</style>\n",
       "<table border=\"1\" class=\"dataframe\">\n",
       "  <thead>\n",
       "    <tr style=\"text-align: right;\">\n",
       "      <th></th>\n",
       "      <th>PassengerId</th>\n",
       "      <th>Pclass</th>\n",
       "      <th>Name</th>\n",
       "      <th>Sex</th>\n",
       "      <th>Age</th>\n",
       "      <th>SibSp</th>\n",
       "      <th>Parch</th>\n",
       "      <th>Ticket</th>\n",
       "      <th>Fare</th>\n",
       "      <th>Cabin</th>\n",
       "      <th>Embarked</th>\n",
       "    </tr>\n",
       "  </thead>\n",
       "  <tbody>\n",
       "    <tr>\n",
       "      <th>0</th>\n",
       "      <td>892</td>\n",
       "      <td>3</td>\n",
       "      <td>Kelly, Mr. James</td>\n",
       "      <td>male</td>\n",
       "      <td>34.5</td>\n",
       "      <td>0</td>\n",
       "      <td>0</td>\n",
       "      <td>330911</td>\n",
       "      <td>7.8292</td>\n",
       "      <td>NaN</td>\n",
       "      <td>Q</td>\n",
       "    </tr>\n",
       "    <tr>\n",
       "      <th>1</th>\n",
       "      <td>893</td>\n",
       "      <td>3</td>\n",
       "      <td>Wilkes, Mrs. James (Ellen Needs)</td>\n",
       "      <td>female</td>\n",
       "      <td>47.0</td>\n",
       "      <td>1</td>\n",
       "      <td>0</td>\n",
       "      <td>363272</td>\n",
       "      <td>7.0000</td>\n",
       "      <td>NaN</td>\n",
       "      <td>S</td>\n",
       "    </tr>\n",
       "    <tr>\n",
       "      <th>2</th>\n",
       "      <td>894</td>\n",
       "      <td>2</td>\n",
       "      <td>Myles, Mr. Thomas Francis</td>\n",
       "      <td>male</td>\n",
       "      <td>62.0</td>\n",
       "      <td>0</td>\n",
       "      <td>0</td>\n",
       "      <td>240276</td>\n",
       "      <td>9.6875</td>\n",
       "      <td>NaN</td>\n",
       "      <td>Q</td>\n",
       "    </tr>\n",
       "    <tr>\n",
       "      <th>3</th>\n",
       "      <td>895</td>\n",
       "      <td>3</td>\n",
       "      <td>Wirz, Mr. Albert</td>\n",
       "      <td>male</td>\n",
       "      <td>27.0</td>\n",
       "      <td>0</td>\n",
       "      <td>0</td>\n",
       "      <td>315154</td>\n",
       "      <td>8.6625</td>\n",
       "      <td>NaN</td>\n",
       "      <td>S</td>\n",
       "    </tr>\n",
       "    <tr>\n",
       "      <th>4</th>\n",
       "      <td>896</td>\n",
       "      <td>3</td>\n",
       "      <td>Hirvonen, Mrs. Alexander (Helga E Lindqvist)</td>\n",
       "      <td>female</td>\n",
       "      <td>22.0</td>\n",
       "      <td>1</td>\n",
       "      <td>1</td>\n",
       "      <td>3101298</td>\n",
       "      <td>12.2875</td>\n",
       "      <td>NaN</td>\n",
       "      <td>S</td>\n",
       "    </tr>\n",
       "  </tbody>\n",
       "</table>\n",
       "</div>"
      ],
      "text/plain": [
       "   PassengerId  Pclass                                          Name     Sex  \\\n",
       "0          892       3                              Kelly, Mr. James    male   \n",
       "1          893       3              Wilkes, Mrs. James (Ellen Needs)  female   \n",
       "2          894       2                     Myles, Mr. Thomas Francis    male   \n",
       "3          895       3                              Wirz, Mr. Albert    male   \n",
       "4          896       3  Hirvonen, Mrs. Alexander (Helga E Lindqvist)  female   \n",
       "\n",
       "    Age  SibSp  Parch   Ticket     Fare Cabin Embarked  \n",
       "0  34.5      0      0   330911   7.8292   NaN        Q  \n",
       "1  47.0      1      0   363272   7.0000   NaN        S  \n",
       "2  62.0      0      0   240276   9.6875   NaN        Q  \n",
       "3  27.0      0      0   315154   8.6625   NaN        S  \n",
       "4  22.0      1      1  3101298  12.2875   NaN        S  "
      ]
     },
     "execution_count": 134,
     "metadata": {},
     "output_type": "execute_result"
    }
   ],
   "source": [
    "# Lendo e visualizando a base de dados Teste\n",
    "test = pd.read_csv(\"Files/test.csv\")\n",
    "test.head()"
   ]
  },
  {
   "cell_type": "code",
   "execution_count": 135,
   "id": "e2a246d8",
   "metadata": {},
   "outputs": [],
   "source": [
    "# Criando um função para verifica se contem Mr ou Miss no nome\n",
    "def name_value(name):\n",
    "     if (\"Mr\" in name or \"Miss\" in name):\n",
    "        return 1\n",
    "    else:\n",
    "        return 0"
   ]
  },
  {
   "cell_type": "code",
   "execution_count": 136,
   "id": "e47d83c3",
   "metadata": {},
   "outputs": [],
   "source": [
    "# Adicionando uma nova coluna com 1 para se a pessoa possui Mr ou Miss no nome, ou 0 se não possui\n",
    "train[\"Mr_Miss_in_Name\"] = train[\"Name\"].map(name_value)\n",
    "test[\"Mr_Miss_in_Name\"] = test[\"Name\"].map(name_value)"
   ]
  },
  {
   "cell_type": "code",
   "execution_count": 137,
   "id": "3cfc0ad2",
   "metadata": {},
   "outputs": [
    {
     "data": {
      "text/plain": [
       "PassengerId        891\n",
       "Name               891\n",
       "Ticket             681\n",
       "Fare               248\n",
       "Cabin              147\n",
       "Age                 88\n",
       "SibSp                7\n",
       "Parch                7\n",
       "Pclass               3\n",
       "Embarked             3\n",
       "Survived             2\n",
       "Sex                  2\n",
       "Mr_Miss_in_Name      2\n",
       "dtype: int64"
      ]
     },
     "execution_count": 137,
     "metadata": {},
     "output_type": "execute_result"
    }
   ],
   "source": [
    "# Vizualisando a cardinalidade dos dados\n",
    "train.nunique().sort_values(ascending=False)"
   ]
  },
  {
   "cell_type": "code",
   "execution_count": 138,
   "id": "5d2c4e2a",
   "metadata": {},
   "outputs": [],
   "source": [
    "# Eliminando colunas para os dados de treino\n",
    "train = train.drop([\"Name\", \"Ticket\", \"Cabin\"], axis=1)"
   ]
  },
  {
   "cell_type": "code",
   "execution_count": 139,
   "id": "03ca6089",
   "metadata": {},
   "outputs": [],
   "source": [
    "# Elimnando colunas para os dados de teste\n",
    "test = test.drop([\"Name\", \"Ticket\", \"Cabin\"], axis=1)"
   ]
  },
  {
   "cell_type": "markdown",
   "id": "93644aab",
   "metadata": {},
   "source": [
    "### Tratando colunas com valores nulos"
   ]
  },
  {
   "cell_type": "code",
   "execution_count": 140,
   "id": "b61b3f17",
   "metadata": {},
   "outputs": [
    {
     "data": {
      "text/plain": [
       "29.69911764705882"
      ]
     },
     "execution_count": 140,
     "metadata": {},
     "output_type": "execute_result"
    }
   ],
   "source": [
    "# Caculando a média da coluna Age\n",
    "train[\"Age\"].mean()"
   ]
  },
  {
   "cell_type": "code",
   "execution_count": 141,
   "id": "af2e7125",
   "metadata": {},
   "outputs": [],
   "source": [
    "# Alterando os valores nulos na coluna Age, pela média base de treino\n",
    "train.loc[train.Age.isnull(), \"Age\"] = train[\"Age\"].mean()"
   ]
  },
  {
   "cell_type": "code",
   "execution_count": 142,
   "id": "c253bcd7",
   "metadata": {},
   "outputs": [],
   "source": [
    "# Alterando os valores nulos na coluna Age, pela média base de teste\n",
    "test.loc[test.Age.isnull(), \"Age\"] = test[\"Age\"].mean()"
   ]
  },
  {
   "cell_type": "code",
   "execution_count": 143,
   "id": "196f41b2",
   "metadata": {},
   "outputs": [
    {
     "data": {
      "text/plain": [
       "Embarked           2\n",
       "PassengerId        0\n",
       "Survived           0\n",
       "Pclass             0\n",
       "Sex                0\n",
       "Age                0\n",
       "SibSp              0\n",
       "Parch              0\n",
       "Fare               0\n",
       "Mr_Miss_in_Name    0\n",
       "dtype: int64"
      ]
     },
     "execution_count": 143,
     "metadata": {},
     "output_type": "execute_result"
    }
   ],
   "source": [
    "train.isnull().sum().sort_values(ascending=False)"
   ]
  },
  {
   "cell_type": "code",
   "execution_count": 144,
   "id": "08f6cf21",
   "metadata": {},
   "outputs": [
    {
     "data": {
      "text/plain": [
       "Fare               1\n",
       "PassengerId        0\n",
       "Pclass             0\n",
       "Sex                0\n",
       "Age                0\n",
       "SibSp              0\n",
       "Parch              0\n",
       "Embarked           0\n",
       "Mr_Miss_in_Name    0\n",
       "dtype: int64"
      ]
     },
     "execution_count": 144,
     "metadata": {},
     "output_type": "execute_result"
    }
   ],
   "source": [
    "test.isnull().sum().sort_values(ascending=False)"
   ]
  },
  {
   "cell_type": "code",
   "execution_count": 145,
   "id": "7b8ae849",
   "metadata": {},
   "outputs": [],
   "source": [
    "# Alterando valores nulos da coluna Fare\n",
    "test.loc[test.Fare.isnull(), \"Fare\"] = test.Fare.mean()"
   ]
  },
  {
   "cell_type": "code",
   "execution_count": 146,
   "id": "697c5f96",
   "metadata": {},
   "outputs": [
    {
     "data": {
      "text/plain": [
       "PassengerId        0\n",
       "Pclass             0\n",
       "Sex                0\n",
       "Age                0\n",
       "SibSp              0\n",
       "Parch              0\n",
       "Fare               0\n",
       "Embarked           0\n",
       "Mr_Miss_in_Name    0\n",
       "dtype: int64"
      ]
     },
     "execution_count": 146,
     "metadata": {},
     "output_type": "execute_result"
    }
   ],
   "source": [
    "test.isnull().sum().sort_values(ascending=False)"
   ]
  },
  {
   "cell_type": "markdown",
   "id": "3c95f7ba",
   "metadata": {},
   "source": [
    "----"
   ]
  },
  {
   "cell_type": "markdown",
   "id": "55b23f4d",
   "metadata": {},
   "source": [
    " # Entendendo colunas de texto"
   ]
  },
  {
   "cell_type": "markdown",
   "id": "88d364b3",
   "metadata": {},
   "source": [
    "- Vamos agora fazer o tratamento das colunas de texto"
   ]
  },
  {
   "cell_type": "code",
   "execution_count": 147,
   "id": "0b6f5fbd",
   "metadata": {},
   "outputs": [
    {
     "data": {
      "text/html": [
       "<div>\n",
       "<style scoped>\n",
       "    .dataframe tbody tr th:only-of-type {\n",
       "        vertical-align: middle;\n",
       "    }\n",
       "\n",
       "    .dataframe tbody tr th {\n",
       "        vertical-align: top;\n",
       "    }\n",
       "\n",
       "    .dataframe thead th {\n",
       "        text-align: right;\n",
       "    }\n",
       "</style>\n",
       "<table border=\"1\" class=\"dataframe\">\n",
       "  <thead>\n",
       "    <tr style=\"text-align: right;\">\n",
       "      <th></th>\n",
       "      <th>PassengerId</th>\n",
       "      <th>Survived</th>\n",
       "      <th>Pclass</th>\n",
       "      <th>Sex</th>\n",
       "      <th>Age</th>\n",
       "      <th>SibSp</th>\n",
       "      <th>Parch</th>\n",
       "      <th>Fare</th>\n",
       "      <th>Embarked</th>\n",
       "      <th>Mr_Miss_in_Name</th>\n",
       "    </tr>\n",
       "  </thead>\n",
       "  <tbody>\n",
       "    <tr>\n",
       "      <th>0</th>\n",
       "      <td>1</td>\n",
       "      <td>0</td>\n",
       "      <td>3</td>\n",
       "      <td>male</td>\n",
       "      <td>22.0</td>\n",
       "      <td>1</td>\n",
       "      <td>0</td>\n",
       "      <td>7.2500</td>\n",
       "      <td>S</td>\n",
       "      <td>1</td>\n",
       "    </tr>\n",
       "    <tr>\n",
       "      <th>1</th>\n",
       "      <td>2</td>\n",
       "      <td>1</td>\n",
       "      <td>1</td>\n",
       "      <td>female</td>\n",
       "      <td>38.0</td>\n",
       "      <td>1</td>\n",
       "      <td>0</td>\n",
       "      <td>71.2833</td>\n",
       "      <td>C</td>\n",
       "      <td>1</td>\n",
       "    </tr>\n",
       "    <tr>\n",
       "      <th>2</th>\n",
       "      <td>3</td>\n",
       "      <td>1</td>\n",
       "      <td>3</td>\n",
       "      <td>female</td>\n",
       "      <td>26.0</td>\n",
       "      <td>0</td>\n",
       "      <td>0</td>\n",
       "      <td>7.9250</td>\n",
       "      <td>S</td>\n",
       "      <td>1</td>\n",
       "    </tr>\n",
       "    <tr>\n",
       "      <th>3</th>\n",
       "      <td>4</td>\n",
       "      <td>1</td>\n",
       "      <td>1</td>\n",
       "      <td>female</td>\n",
       "      <td>35.0</td>\n",
       "      <td>1</td>\n",
       "      <td>0</td>\n",
       "      <td>53.1000</td>\n",
       "      <td>S</td>\n",
       "      <td>1</td>\n",
       "    </tr>\n",
       "    <tr>\n",
       "      <th>4</th>\n",
       "      <td>5</td>\n",
       "      <td>0</td>\n",
       "      <td>3</td>\n",
       "      <td>male</td>\n",
       "      <td>35.0</td>\n",
       "      <td>0</td>\n",
       "      <td>0</td>\n",
       "      <td>8.0500</td>\n",
       "      <td>S</td>\n",
       "      <td>1</td>\n",
       "    </tr>\n",
       "  </tbody>\n",
       "</table>\n",
       "</div>"
      ],
      "text/plain": [
       "   PassengerId  Survived  Pclass     Sex   Age  SibSp  Parch     Fare  \\\n",
       "0            1         0       3    male  22.0      1      0   7.2500   \n",
       "1            2         1       1  female  38.0      1      0  71.2833   \n",
       "2            3         1       3  female  26.0      0      0   7.9250   \n",
       "3            4         1       1  female  35.0      1      0  53.1000   \n",
       "4            5         0       3    male  35.0      0      0   8.0500   \n",
       "\n",
       "  Embarked  Mr_Miss_in_Name  \n",
       "0        S                1  \n",
       "1        C                1  \n",
       "2        S                1  \n",
       "3        S                1  \n",
       "4        S                1  "
      ]
     },
     "execution_count": 147,
     "metadata": {},
     "output_type": "execute_result"
    }
   ],
   "source": [
    "train.head()"
   ]
  },
  {
   "cell_type": "markdown",
   "id": "d72dc96f",
   "metadata": {},
   "source": [
    "- Temos 2 colunas de texto, **Sex** e **Embarked**"
   ]
  },
  {
   "cell_type": "code",
   "execution_count": 148,
   "id": "2fc18c91",
   "metadata": {},
   "outputs": [
    {
     "data": {
      "text/plain": [
       "male      577\n",
       "female    314\n",
       "Name: Sex, dtype: int64"
      ]
     },
     "execution_count": 148,
     "metadata": {},
     "output_type": "execute_result"
    }
   ],
   "source": [
    "train[\"Sex\"].value_counts()"
   ]
  },
  {
   "cell_type": "markdown",
   "id": "c0d1ac70",
   "metadata": {},
   "source": [
    "- Para coluna **Sex** podemos converter para binário por existir apenas 2 valores diferentes"
   ]
  },
  {
   "cell_type": "code",
   "execution_count": 149,
   "id": "ba3692ca",
   "metadata": {},
   "outputs": [],
   "source": [
    "# Convertendo a coluna Sex para binário\n",
    "train['Sex_binary'] = train[\"Sex\"].apply(lambda x: 1 if  x == \"female\" else 0)"
   ]
  },
  {
   "cell_type": "code",
   "execution_count": 150,
   "id": "915d138c",
   "metadata": {},
   "outputs": [],
   "source": [
    "# Fazendo a mesma conversão para base de teste\n",
    "test['Sex_binary'] = test[\"Sex\"].apply(lambda x: 1 if  x == \"female\" else 0)"
   ]
  },
  {
   "cell_type": "code",
   "execution_count": 151,
   "id": "d4729c25",
   "metadata": {},
   "outputs": [],
   "source": [
    "# Eliminando a antiga coluna Sex das bases\n",
    "train = train.drop([\"Sex\"], axis=1)\n",
    "test = test.drop(\"Sex\", axis=1)"
   ]
  },
  {
   "cell_type": "markdown",
   "id": "25ad835c",
   "metadata": {},
   "source": [
    "- Para a coluna **Embarked** precisanmos utiliza **one-hot encoding**. Isso significa que cada valor distinto na coluna \"Embarked\" será transformado em uma nova coluna binária"
   ]
  },
  {
   "cell_type": "code",
   "execution_count": 152,
   "id": "12ee713d",
   "metadata": {},
   "outputs": [
    {
     "data": {
      "text/plain": [
       "S    644\n",
       "C    168\n",
       "Q     77\n",
       "Name: Embarked, dtype: int64"
      ]
     },
     "execution_count": 152,
     "metadata": {},
     "output_type": "execute_result"
    }
   ],
   "source": [
    "train[\"Embarked\"].value_counts()"
   ]
  },
  {
   "cell_type": "code",
   "execution_count": 153,
   "id": "94ab796f",
   "metadata": {},
   "outputs": [
    {
     "data": {
      "text/html": [
       "<div>\n",
       "<style scoped>\n",
       "    .dataframe tbody tr th:only-of-type {\n",
       "        vertical-align: middle;\n",
       "    }\n",
       "\n",
       "    .dataframe tbody tr th {\n",
       "        vertical-align: top;\n",
       "    }\n",
       "\n",
       "    .dataframe thead th {\n",
       "        text-align: right;\n",
       "    }\n",
       "</style>\n",
       "<table border=\"1\" class=\"dataframe\">\n",
       "  <thead>\n",
       "    <tr style=\"text-align: right;\">\n",
       "      <th></th>\n",
       "      <th>PassengerId</th>\n",
       "      <th>Survived</th>\n",
       "      <th>Pclass</th>\n",
       "      <th>Age</th>\n",
       "      <th>SibSp</th>\n",
       "      <th>Parch</th>\n",
       "      <th>Fare</th>\n",
       "      <th>Mr_Miss_in_Name</th>\n",
       "      <th>Sex_binary</th>\n",
       "      <th>Embarked_C</th>\n",
       "      <th>Embarked_Q</th>\n",
       "      <th>Embarked_S</th>\n",
       "    </tr>\n",
       "  </thead>\n",
       "  <tbody>\n",
       "    <tr>\n",
       "      <th>0</th>\n",
       "      <td>1</td>\n",
       "      <td>0</td>\n",
       "      <td>3</td>\n",
       "      <td>22.0</td>\n",
       "      <td>1</td>\n",
       "      <td>0</td>\n",
       "      <td>7.2500</td>\n",
       "      <td>1</td>\n",
       "      <td>0</td>\n",
       "      <td>0</td>\n",
       "      <td>0</td>\n",
       "      <td>1</td>\n",
       "    </tr>\n",
       "    <tr>\n",
       "      <th>1</th>\n",
       "      <td>2</td>\n",
       "      <td>1</td>\n",
       "      <td>1</td>\n",
       "      <td>38.0</td>\n",
       "      <td>1</td>\n",
       "      <td>0</td>\n",
       "      <td>71.2833</td>\n",
       "      <td>1</td>\n",
       "      <td>1</td>\n",
       "      <td>1</td>\n",
       "      <td>0</td>\n",
       "      <td>0</td>\n",
       "    </tr>\n",
       "    <tr>\n",
       "      <th>2</th>\n",
       "      <td>3</td>\n",
       "      <td>1</td>\n",
       "      <td>3</td>\n",
       "      <td>26.0</td>\n",
       "      <td>0</td>\n",
       "      <td>0</td>\n",
       "      <td>7.9250</td>\n",
       "      <td>1</td>\n",
       "      <td>1</td>\n",
       "      <td>0</td>\n",
       "      <td>0</td>\n",
       "      <td>1</td>\n",
       "    </tr>\n",
       "    <tr>\n",
       "      <th>3</th>\n",
       "      <td>4</td>\n",
       "      <td>1</td>\n",
       "      <td>1</td>\n",
       "      <td>35.0</td>\n",
       "      <td>1</td>\n",
       "      <td>0</td>\n",
       "      <td>53.1000</td>\n",
       "      <td>1</td>\n",
       "      <td>1</td>\n",
       "      <td>0</td>\n",
       "      <td>0</td>\n",
       "      <td>1</td>\n",
       "    </tr>\n",
       "    <tr>\n",
       "      <th>4</th>\n",
       "      <td>5</td>\n",
       "      <td>0</td>\n",
       "      <td>3</td>\n",
       "      <td>35.0</td>\n",
       "      <td>0</td>\n",
       "      <td>0</td>\n",
       "      <td>8.0500</td>\n",
       "      <td>1</td>\n",
       "      <td>0</td>\n",
       "      <td>0</td>\n",
       "      <td>0</td>\n",
       "      <td>1</td>\n",
       "    </tr>\n",
       "  </tbody>\n",
       "</table>\n",
       "</div>"
      ],
      "text/plain": [
       "   PassengerId  Survived  Pclass   Age  SibSp  Parch     Fare  \\\n",
       "0            1         0       3  22.0      1      0   7.2500   \n",
       "1            2         1       1  38.0      1      0  71.2833   \n",
       "2            3         1       3  26.0      0      0   7.9250   \n",
       "3            4         1       1  35.0      1      0  53.1000   \n",
       "4            5         0       3  35.0      0      0   8.0500   \n",
       "\n",
       "   Mr_Miss_in_Name  Sex_binary  Embarked_C  Embarked_Q  Embarked_S  \n",
       "0                1           0           0           0           1  \n",
       "1                1           1           1           0           0  \n",
       "2                1           1           0           0           1  \n",
       "3                1           1           0           0           1  \n",
       "4                1           0           0           0           1  "
      ]
     },
     "execution_count": 153,
     "metadata": {},
     "output_type": "execute_result"
    }
   ],
   "source": [
    "# Aplicar one-hot encoding\n",
    "encoded = pd.get_dummies(train['Embarked'], prefix='Embarked')\n",
    "\n",
    "# Concatenar os novos dados codificados com o dataframe original\n",
    "train = pd.concat([train, encoded], axis=1)\n",
    "\n",
    "# Elimindo coluna \"Embarked\"\n",
    "train = train.drop(\"Embarked\", axis=1)\n",
    "train.head()"
   ]
  },
  {
   "cell_type": "code",
   "execution_count": 154,
   "id": "6f2f183d",
   "metadata": {},
   "outputs": [
    {
     "data": {
      "text/html": [
       "<div>\n",
       "<style scoped>\n",
       "    .dataframe tbody tr th:only-of-type {\n",
       "        vertical-align: middle;\n",
       "    }\n",
       "\n",
       "    .dataframe tbody tr th {\n",
       "        vertical-align: top;\n",
       "    }\n",
       "\n",
       "    .dataframe thead th {\n",
       "        text-align: right;\n",
       "    }\n",
       "</style>\n",
       "<table border=\"1\" class=\"dataframe\">\n",
       "  <thead>\n",
       "    <tr style=\"text-align: right;\">\n",
       "      <th></th>\n",
       "      <th>PassengerId</th>\n",
       "      <th>Pclass</th>\n",
       "      <th>Age</th>\n",
       "      <th>SibSp</th>\n",
       "      <th>Parch</th>\n",
       "      <th>Fare</th>\n",
       "      <th>Mr_Miss_in_Name</th>\n",
       "      <th>Sex_binary</th>\n",
       "      <th>Embarked_C</th>\n",
       "      <th>Embarked_Q</th>\n",
       "      <th>Embarked_S</th>\n",
       "    </tr>\n",
       "  </thead>\n",
       "  <tbody>\n",
       "    <tr>\n",
       "      <th>0</th>\n",
       "      <td>892</td>\n",
       "      <td>3</td>\n",
       "      <td>34.5</td>\n",
       "      <td>0</td>\n",
       "      <td>0</td>\n",
       "      <td>7.8292</td>\n",
       "      <td>1</td>\n",
       "      <td>0</td>\n",
       "      <td>0</td>\n",
       "      <td>1</td>\n",
       "      <td>0</td>\n",
       "    </tr>\n",
       "    <tr>\n",
       "      <th>1</th>\n",
       "      <td>893</td>\n",
       "      <td>3</td>\n",
       "      <td>47.0</td>\n",
       "      <td>1</td>\n",
       "      <td>0</td>\n",
       "      <td>7.0000</td>\n",
       "      <td>1</td>\n",
       "      <td>1</td>\n",
       "      <td>0</td>\n",
       "      <td>0</td>\n",
       "      <td>1</td>\n",
       "    </tr>\n",
       "    <tr>\n",
       "      <th>2</th>\n",
       "      <td>894</td>\n",
       "      <td>2</td>\n",
       "      <td>62.0</td>\n",
       "      <td>0</td>\n",
       "      <td>0</td>\n",
       "      <td>9.6875</td>\n",
       "      <td>1</td>\n",
       "      <td>0</td>\n",
       "      <td>0</td>\n",
       "      <td>1</td>\n",
       "      <td>0</td>\n",
       "    </tr>\n",
       "    <tr>\n",
       "      <th>3</th>\n",
       "      <td>895</td>\n",
       "      <td>3</td>\n",
       "      <td>27.0</td>\n",
       "      <td>0</td>\n",
       "      <td>0</td>\n",
       "      <td>8.6625</td>\n",
       "      <td>1</td>\n",
       "      <td>0</td>\n",
       "      <td>0</td>\n",
       "      <td>0</td>\n",
       "      <td>1</td>\n",
       "    </tr>\n",
       "    <tr>\n",
       "      <th>4</th>\n",
       "      <td>896</td>\n",
       "      <td>3</td>\n",
       "      <td>22.0</td>\n",
       "      <td>1</td>\n",
       "      <td>1</td>\n",
       "      <td>12.2875</td>\n",
       "      <td>1</td>\n",
       "      <td>1</td>\n",
       "      <td>0</td>\n",
       "      <td>0</td>\n",
       "      <td>1</td>\n",
       "    </tr>\n",
       "  </tbody>\n",
       "</table>\n",
       "</div>"
      ],
      "text/plain": [
       "   PassengerId  Pclass   Age  SibSp  Parch     Fare  Mr_Miss_in_Name  \\\n",
       "0          892       3  34.5      0      0   7.8292                1   \n",
       "1          893       3  47.0      1      0   7.0000                1   \n",
       "2          894       2  62.0      0      0   9.6875                1   \n",
       "3          895       3  27.0      0      0   8.6625                1   \n",
       "4          896       3  22.0      1      1  12.2875                1   \n",
       "\n",
       "   Sex_binary  Embarked_C  Embarked_Q  Embarked_S  \n",
       "0           0           0           1           0  \n",
       "1           1           0           0           1  \n",
       "2           0           0           1           0  \n",
       "3           0           0           0           1  \n",
       "4           1           0           0           1  "
      ]
     },
     "execution_count": 154,
     "metadata": {},
     "output_type": "execute_result"
    }
   ],
   "source": [
    "# Aplicando o mesmo conceito para a base de Teste\n",
    "encoded = pd.get_dummies(test['Embarked'], prefix='Embarked')\n",
    "\n",
    "# Concatenar os novos dados codificados com o dataframe original\n",
    "test = pd.concat([test, encoded], axis=1)\n",
    "\n",
    "# Elimindo coluna \"Embarked\"\n",
    "test = test.drop(\"Embarked\", axis=1)\n",
    "test.head()"
   ]
  },
  {
   "cell_type": "code",
   "execution_count": 155,
   "id": "b07c6506",
   "metadata": {},
   "outputs": [
    {
     "data": {
      "text/html": [
       "<div>\n",
       "<style scoped>\n",
       "    .dataframe tbody tr th:only-of-type {\n",
       "        vertical-align: middle;\n",
       "    }\n",
       "\n",
       "    .dataframe tbody tr th {\n",
       "        vertical-align: top;\n",
       "    }\n",
       "\n",
       "    .dataframe thead th {\n",
       "        text-align: right;\n",
       "    }\n",
       "</style>\n",
       "<table border=\"1\" class=\"dataframe\">\n",
       "  <thead>\n",
       "    <tr style=\"text-align: right;\">\n",
       "      <th></th>\n",
       "      <th>PassengerId</th>\n",
       "      <th>Survived</th>\n",
       "      <th>Pclass</th>\n",
       "      <th>Age</th>\n",
       "      <th>SibSp</th>\n",
       "      <th>Parch</th>\n",
       "      <th>Fare</th>\n",
       "      <th>Mr_Miss_in_Name</th>\n",
       "      <th>Sex_binary</th>\n",
       "      <th>Embarked_C</th>\n",
       "      <th>Embarked_Q</th>\n",
       "      <th>Embarked_S</th>\n",
       "    </tr>\n",
       "  </thead>\n",
       "  <tbody>\n",
       "    <tr>\n",
       "      <th>0</th>\n",
       "      <td>1</td>\n",
       "      <td>0</td>\n",
       "      <td>3</td>\n",
       "      <td>22.0</td>\n",
       "      <td>1</td>\n",
       "      <td>0</td>\n",
       "      <td>7.2500</td>\n",
       "      <td>1</td>\n",
       "      <td>0</td>\n",
       "      <td>0</td>\n",
       "      <td>0</td>\n",
       "      <td>1</td>\n",
       "    </tr>\n",
       "    <tr>\n",
       "      <th>1</th>\n",
       "      <td>2</td>\n",
       "      <td>1</td>\n",
       "      <td>1</td>\n",
       "      <td>38.0</td>\n",
       "      <td>1</td>\n",
       "      <td>0</td>\n",
       "      <td>71.2833</td>\n",
       "      <td>1</td>\n",
       "      <td>1</td>\n",
       "      <td>1</td>\n",
       "      <td>0</td>\n",
       "      <td>0</td>\n",
       "    </tr>\n",
       "    <tr>\n",
       "      <th>2</th>\n",
       "      <td>3</td>\n",
       "      <td>1</td>\n",
       "      <td>3</td>\n",
       "      <td>26.0</td>\n",
       "      <td>0</td>\n",
       "      <td>0</td>\n",
       "      <td>7.9250</td>\n",
       "      <td>1</td>\n",
       "      <td>1</td>\n",
       "      <td>0</td>\n",
       "      <td>0</td>\n",
       "      <td>1</td>\n",
       "    </tr>\n",
       "    <tr>\n",
       "      <th>3</th>\n",
       "      <td>4</td>\n",
       "      <td>1</td>\n",
       "      <td>1</td>\n",
       "      <td>35.0</td>\n",
       "      <td>1</td>\n",
       "      <td>0</td>\n",
       "      <td>53.1000</td>\n",
       "      <td>1</td>\n",
       "      <td>1</td>\n",
       "      <td>0</td>\n",
       "      <td>0</td>\n",
       "      <td>1</td>\n",
       "    </tr>\n",
       "    <tr>\n",
       "      <th>4</th>\n",
       "      <td>5</td>\n",
       "      <td>0</td>\n",
       "      <td>3</td>\n",
       "      <td>35.0</td>\n",
       "      <td>0</td>\n",
       "      <td>0</td>\n",
       "      <td>8.0500</td>\n",
       "      <td>1</td>\n",
       "      <td>0</td>\n",
       "      <td>0</td>\n",
       "      <td>0</td>\n",
       "      <td>1</td>\n",
       "    </tr>\n",
       "  </tbody>\n",
       "</table>\n",
       "</div>"
      ],
      "text/plain": [
       "   PassengerId  Survived  Pclass   Age  SibSp  Parch     Fare  \\\n",
       "0            1         0       3  22.0      1      0   7.2500   \n",
       "1            2         1       1  38.0      1      0  71.2833   \n",
       "2            3         1       3  26.0      0      0   7.9250   \n",
       "3            4         1       1  35.0      1      0  53.1000   \n",
       "4            5         0       3  35.0      0      0   8.0500   \n",
       "\n",
       "   Mr_Miss_in_Name  Sex_binary  Embarked_C  Embarked_Q  Embarked_S  \n",
       "0                1           0           0           0           1  \n",
       "1                1           1           1           0           0  \n",
       "2                1           1           0           0           1  \n",
       "3                1           1           0           0           1  \n",
       "4                1           0           0           0           1  "
      ]
     },
     "execution_count": 155,
     "metadata": {},
     "output_type": "execute_result"
    }
   ],
   "source": [
    "train.head()"
   ]
  },
  {
   "cell_type": "markdown",
   "id": "74645af5",
   "metadata": {},
   "source": [
    "# Criando Modelos"
   ]
  },
  {
   "cell_type": "markdown",
   "id": "ab7e9174",
   "metadata": {},
   "source": [
    "- Separando a base de treino entre Treino e Validação"
   ]
  },
  {
   "cell_type": "code",
   "execution_count": 156,
   "id": "84c50332",
   "metadata": {},
   "outputs": [],
   "source": [
    "# Serpando X e y\n",
    "X = train.drop([\"Survived\", \"PassengerId\"], axis=1)\n",
    "y = train[\"Survived\"]"
   ]
  },
  {
   "cell_type": "code",
   "execution_count": 157,
   "id": "13409566",
   "metadata": {},
   "outputs": [],
   "source": [
    "# Importando train_test_split\n",
    "from sklearn.model_selection import train_test_split"
   ]
  },
  {
   "cell_type": "code",
   "execution_count": 158,
   "id": "c8b56ef2",
   "metadata": {},
   "outputs": [],
   "source": [
    "treino_X, valid_X, treino_y, valid_y = train_test_split(X, y, random_state=1)"
   ]
  },
  {
   "cell_type": "markdown",
   "id": "3f076ef9",
   "metadata": {},
   "source": [
    "- Modelo Random Forent"
   ]
  },
  {
   "cell_type": "code",
   "execution_count": 159,
   "id": "4674e761",
   "metadata": {},
   "outputs": [],
   "source": [
    "# Importando modelo e acurácia\n",
    "from sklearn.ensemble import RandomForestClassifier\n",
    "from sklearn.metrics import accuracy_score"
   ]
  },
  {
   "cell_type": "code",
   "execution_count": 160,
   "id": "bfae2abb",
   "metadata": {},
   "outputs": [
    {
     "data": {
      "text/plain": [
       "RandomForestClassifier(random_state=1)"
      ]
     },
     "execution_count": 160,
     "metadata": {},
     "output_type": "execute_result"
    }
   ],
   "source": [
    "# Treinando Random Forest\n",
    "modelo_rf = RandomForestClassifier(random_state=1)\n",
    "modelo_rf.fit(treino_X, treino_y)"
   ]
  },
  {
   "cell_type": "code",
   "execution_count": 161,
   "id": "e70c03b4",
   "metadata": {},
   "outputs": [],
   "source": [
    "# Predizendo os dados de validação\n",
    "predicao_rf = modelo_rf.predict(valid_X)"
   ]
  },
  {
   "cell_type": "code",
   "execution_count": 162,
   "id": "e9a3e295",
   "metadata": {},
   "outputs": [],
   "source": [
    "# Acurácia do Modelo Random Forest\n",
    "acuracia_rf = accuracy_score(predicao_rf, valid_y)"
   ]
  },
  {
   "cell_type": "markdown",
   "id": "d4a3aace",
   "metadata": {},
   "source": [
    "- Modelo KNeighborsClassifer"
   ]
  },
  {
   "cell_type": "code",
   "execution_count": 163,
   "id": "f77861a0",
   "metadata": {},
   "outputs": [],
   "source": [
    "# Importando modelo\n",
    "from sklearn.neighbors import KNeighborsClassifier"
   ]
  },
  {
   "cell_type": "code",
   "execution_count": 164,
   "id": "6ad9e78b",
   "metadata": {},
   "outputs": [
    {
     "data": {
      "text/plain": [
       "KNeighborsClassifier(n_neighbors=3)"
      ]
     },
     "execution_count": 164,
     "metadata": {},
     "output_type": "execute_result"
    }
   ],
   "source": [
    "# Treinando o Modelo\n",
    "modelo_kn = KNeighborsClassifier(n_neighbors=3)\n",
    "modelo_kn.fit(treino_X, treino_y)"
   ]
  },
  {
   "cell_type": "code",
   "execution_count": 165,
   "id": "9400d439",
   "metadata": {},
   "outputs": [],
   "source": [
    "## Predizendo os dados de validação\n",
    "predicao_kn = modelo_kn.predict(valid_X)"
   ]
  },
  {
   "cell_type": "code",
   "execution_count": 166,
   "id": "af035a7d",
   "metadata": {},
   "outputs": [],
   "source": [
    "# Acurácia\n",
    "acuracia_kn = accuracy_score(valid_y, predicao_kn)"
   ]
  },
  {
   "cell_type": "markdown",
   "id": "c5f762e9",
   "metadata": {},
   "source": [
    "- Modelo Regressão Logística"
   ]
  },
  {
   "cell_type": "code",
   "execution_count": 167,
   "id": "bdac68b8",
   "metadata": {},
   "outputs": [],
   "source": [
    "# Importando modelo\n",
    "from sklearn.linear_model import LogisticRegression"
   ]
  },
  {
   "cell_type": "code",
   "execution_count": 168,
   "id": "118d325f",
   "metadata": {},
   "outputs": [
    {
     "data": {
      "text/plain": [
       "LogisticRegression(max_iter=1000, random_state=1)"
      ]
     },
     "execution_count": 168,
     "metadata": {},
     "output_type": "execute_result"
    }
   ],
   "source": [
    "# Treinando o Modelo\n",
    "modelo_lr = LogisticRegression(random_state=1, max_iter=1000)\n",
    "modelo_lr.fit(treino_X, treino_y)"
   ]
  },
  {
   "cell_type": "code",
   "execution_count": 169,
   "id": "4ff6f91f",
   "metadata": {},
   "outputs": [],
   "source": [
    "# Predizendo os dados de Validação\n",
    "predicao_lr = modelo_lr.predict(valid_X)"
   ]
  },
  {
   "cell_type": "code",
   "execution_count": 170,
   "id": "7faf021f",
   "metadata": {},
   "outputs": [],
   "source": [
    "# Acurácia\n",
    "acuracia_lr = accuracy_score(valid_y, predicao_lr)"
   ]
  },
  {
   "cell_type": "markdown",
   "id": "2036f2c1",
   "metadata": {},
   "source": [
    "## Resultados dos Modelos"
   ]
  },
  {
   "cell_type": "code",
   "execution_count": 171,
   "id": "03b1028e",
   "metadata": {},
   "outputs": [
    {
     "name": "stdout",
     "output_type": "stream",
     "text": [
      "Acurácia Modelo RandomForest: 0.7713004484304933\n",
      "\n",
      "Acurácia Modelo KNeighborsClassifer: 0.7309417040358744\n",
      "\n",
      "Acurácia Modelo LogisticRegression: 0.7892376681614349\n"
     ]
    }
   ],
   "source": [
    "print(f\"Acurácia Modelo RandomForest: {acuracia_rf}\\n\")\n",
    "print(f\"Acurácia Modelo KNeighborsClassifer: {acuracia_kn}\\n\")\n",
    "print(f\"Acurácia Modelo LogisticRegression: {acuracia_lr}\")"
   ]
  },
  {
   "cell_type": "markdown",
   "id": "c8b6544f",
   "metadata": {},
   "source": [
    "----"
   ]
  },
  {
   "cell_type": "markdown",
   "id": "54cafd8a",
   "metadata": {},
   "source": [
    "#  Predizendo os dados de Teste com o modelo Regressão Logística"
   ]
  },
  {
   "cell_type": "code",
   "execution_count": 174,
   "id": "1fe6aaa2",
   "metadata": {},
   "outputs": [],
   "source": [
    "X_train = train.drop([\"PassengerId\", \"Survived\"], axis=1)\n",
    "y_train = train[\"Survived\"]"
   ]
  },
  {
   "cell_type": "code",
   "execution_count": 175,
   "id": "d7ec6908",
   "metadata": {},
   "outputs": [],
   "source": [
    "X_test = test.drop(\"PassengerId\", axis=1)"
   ]
  },
  {
   "cell_type": "code",
   "execution_count": 176,
   "id": "2e04291c",
   "metadata": {},
   "outputs": [
    {
     "data": {
      "text/plain": [
       "LogisticRegression(max_iter=1000, random_state=1)"
      ]
     },
     "execution_count": 176,
     "metadata": {},
     "output_type": "execute_result"
    }
   ],
   "source": [
    "# Treinando o modelo Regressão Logística\n",
    "modelo_final = LogisticRegression(random_state=1, max_iter=1000)\n",
    "modelo_final.fit(X_train, y_train)"
   ]
  },
  {
   "cell_type": "code",
   "execution_count": 177,
   "id": "f8870673",
   "metadata": {},
   "outputs": [],
   "source": [
    "# Predizendo os dados de Validação\n",
    "predicao_final = modelo_final.predict(X_test)"
   ]
  },
  {
   "cell_type": "code",
   "execution_count": 179,
   "id": "8cddf34d",
   "metadata": {},
   "outputs": [],
   "source": [
    "sub = pd.Series(predicao_final, index=test[\"PassengerId\"], name=\"Survived\")\n",
    "sub.to_csv(\"Files/Terceira_predicao.csv\", header=True)"
   ]
  }
 ],
 "metadata": {
  "kernelspec": {
   "display_name": "Python 3 (ipykernel)",
   "language": "python",
   "name": "python3"
  },
  "language_info": {
   "codemirror_mode": {
    "name": "ipython",
    "version": 3
   },
   "file_extension": ".py",
   "mimetype": "text/x-python",
   "name": "python",
   "nbconvert_exporter": "python",
   "pygments_lexer": "ipython3",
   "version": "3.10.13"
  }
 },
 "nbformat": 4,
 "nbformat_minor": 5
}
