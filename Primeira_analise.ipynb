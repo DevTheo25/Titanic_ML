{
 "cells": [
  {
   "cell_type": "markdown",
   "id": "38398b6e",
   "metadata": {},
   "source": [
    "# Análise Titanic"
   ]
  },
  {
   "cell_type": "markdown",
   "id": "591a577d",
   "metadata": {},
   "source": [
    "![Imagem](Files/img.png)"
   ]
  },
  {
   "cell_type": "markdown",
   "id": "0e3a125e",
   "metadata": {},
   "source": [
    "### Primeiros tratamentos nas bases de Treino e Teste"
   ]
  },
  {
   "cell_type": "code",
   "execution_count": 120,
   "id": "1eb890f3",
   "metadata": {},
   "outputs": [],
   "source": [
    "# Importando pandas\n",
    "import pandas as pd"
   ]
  },
  {
   "cell_type": "code",
   "execution_count": 121,
   "id": "aafcf53c",
   "metadata": {},
   "outputs": [
    {
     "data": {
      "text/html": [
       "<div>\n",
       "<style scoped>\n",
       "    .dataframe tbody tr th:only-of-type {\n",
       "        vertical-align: middle;\n",
       "    }\n",
       "\n",
       "    .dataframe tbody tr th {\n",
       "        vertical-align: top;\n",
       "    }\n",
       "\n",
       "    .dataframe thead th {\n",
       "        text-align: right;\n",
       "    }\n",
       "</style>\n",
       "<table border=\"1\" class=\"dataframe\">\n",
       "  <thead>\n",
       "    <tr style=\"text-align: right;\">\n",
       "      <th></th>\n",
       "      <th>PassengerId</th>\n",
       "      <th>Survived</th>\n",
       "      <th>Pclass</th>\n",
       "      <th>Name</th>\n",
       "      <th>Sex</th>\n",
       "      <th>Age</th>\n",
       "      <th>SibSp</th>\n",
       "      <th>Parch</th>\n",
       "      <th>Ticket</th>\n",
       "      <th>Fare</th>\n",
       "      <th>Cabin</th>\n",
       "      <th>Embarked</th>\n",
       "    </tr>\n",
       "  </thead>\n",
       "  <tbody>\n",
       "    <tr>\n",
       "      <th>0</th>\n",
       "      <td>1</td>\n",
       "      <td>0</td>\n",
       "      <td>3</td>\n",
       "      <td>Braund, Mr. Owen Harris</td>\n",
       "      <td>male</td>\n",
       "      <td>22.0</td>\n",
       "      <td>1</td>\n",
       "      <td>0</td>\n",
       "      <td>A/5 21171</td>\n",
       "      <td>7.2500</td>\n",
       "      <td>NaN</td>\n",
       "      <td>S</td>\n",
       "    </tr>\n",
       "    <tr>\n",
       "      <th>1</th>\n",
       "      <td>2</td>\n",
       "      <td>1</td>\n",
       "      <td>1</td>\n",
       "      <td>Cumings, Mrs. John Bradley (Florence Briggs Th...</td>\n",
       "      <td>female</td>\n",
       "      <td>38.0</td>\n",
       "      <td>1</td>\n",
       "      <td>0</td>\n",
       "      <td>PC 17599</td>\n",
       "      <td>71.2833</td>\n",
       "      <td>C85</td>\n",
       "      <td>C</td>\n",
       "    </tr>\n",
       "    <tr>\n",
       "      <th>2</th>\n",
       "      <td>3</td>\n",
       "      <td>1</td>\n",
       "      <td>3</td>\n",
       "      <td>Heikkinen, Miss. Laina</td>\n",
       "      <td>female</td>\n",
       "      <td>26.0</td>\n",
       "      <td>0</td>\n",
       "      <td>0</td>\n",
       "      <td>STON/O2. 3101282</td>\n",
       "      <td>7.9250</td>\n",
       "      <td>NaN</td>\n",
       "      <td>S</td>\n",
       "    </tr>\n",
       "    <tr>\n",
       "      <th>3</th>\n",
       "      <td>4</td>\n",
       "      <td>1</td>\n",
       "      <td>1</td>\n",
       "      <td>Futrelle, Mrs. Jacques Heath (Lily May Peel)</td>\n",
       "      <td>female</td>\n",
       "      <td>35.0</td>\n",
       "      <td>1</td>\n",
       "      <td>0</td>\n",
       "      <td>113803</td>\n",
       "      <td>53.1000</td>\n",
       "      <td>C123</td>\n",
       "      <td>S</td>\n",
       "    </tr>\n",
       "    <tr>\n",
       "      <th>4</th>\n",
       "      <td>5</td>\n",
       "      <td>0</td>\n",
       "      <td>3</td>\n",
       "      <td>Allen, Mr. William Henry</td>\n",
       "      <td>male</td>\n",
       "      <td>35.0</td>\n",
       "      <td>0</td>\n",
       "      <td>0</td>\n",
       "      <td>373450</td>\n",
       "      <td>8.0500</td>\n",
       "      <td>NaN</td>\n",
       "      <td>S</td>\n",
       "    </tr>\n",
       "  </tbody>\n",
       "</table>\n",
       "</div>"
      ],
      "text/plain": [
       "   PassengerId  Survived  Pclass  \\\n",
       "0            1         0       3   \n",
       "1            2         1       1   \n",
       "2            3         1       3   \n",
       "3            4         1       1   \n",
       "4            5         0       3   \n",
       "\n",
       "                                                Name     Sex   Age  SibSp  \\\n",
       "0                            Braund, Mr. Owen Harris    male  22.0      1   \n",
       "1  Cumings, Mrs. John Bradley (Florence Briggs Th...  female  38.0      1   \n",
       "2                             Heikkinen, Miss. Laina  female  26.0      0   \n",
       "3       Futrelle, Mrs. Jacques Heath (Lily May Peel)  female  35.0      1   \n",
       "4                           Allen, Mr. William Henry    male  35.0      0   \n",
       "\n",
       "   Parch            Ticket     Fare Cabin Embarked  \n",
       "0      0         A/5 21171   7.2500   NaN        S  \n",
       "1      0          PC 17599  71.2833   C85        C  \n",
       "2      0  STON/O2. 3101282   7.9250   NaN        S  \n",
       "3      0            113803  53.1000  C123        S  \n",
       "4      0            373450   8.0500   NaN        S  "
      ]
     },
     "execution_count": 121,
     "metadata": {},
     "output_type": "execute_result"
    }
   ],
   "source": [
    "# Lendo e visualizando a base de dados de treino\n",
    "train = pd.read_csv(\"Files/train.csv\")\n",
    "train.head()"
   ]
  },
  {
   "cell_type": "code",
   "execution_count": 122,
   "id": "78c0cee7",
   "metadata": {},
   "outputs": [
    {
     "data": {
      "text/html": [
       "<div>\n",
       "<style scoped>\n",
       "    .dataframe tbody tr th:only-of-type {\n",
       "        vertical-align: middle;\n",
       "    }\n",
       "\n",
       "    .dataframe tbody tr th {\n",
       "        vertical-align: top;\n",
       "    }\n",
       "\n",
       "    .dataframe thead th {\n",
       "        text-align: right;\n",
       "    }\n",
       "</style>\n",
       "<table border=\"1\" class=\"dataframe\">\n",
       "  <thead>\n",
       "    <tr style=\"text-align: right;\">\n",
       "      <th></th>\n",
       "      <th>PassengerId</th>\n",
       "      <th>Pclass</th>\n",
       "      <th>Name</th>\n",
       "      <th>Sex</th>\n",
       "      <th>Age</th>\n",
       "      <th>SibSp</th>\n",
       "      <th>Parch</th>\n",
       "      <th>Ticket</th>\n",
       "      <th>Fare</th>\n",
       "      <th>Cabin</th>\n",
       "      <th>Embarked</th>\n",
       "    </tr>\n",
       "  </thead>\n",
       "  <tbody>\n",
       "    <tr>\n",
       "      <th>0</th>\n",
       "      <td>892</td>\n",
       "      <td>3</td>\n",
       "      <td>Kelly, Mr. James</td>\n",
       "      <td>male</td>\n",
       "      <td>34.5</td>\n",
       "      <td>0</td>\n",
       "      <td>0</td>\n",
       "      <td>330911</td>\n",
       "      <td>7.8292</td>\n",
       "      <td>NaN</td>\n",
       "      <td>Q</td>\n",
       "    </tr>\n",
       "    <tr>\n",
       "      <th>1</th>\n",
       "      <td>893</td>\n",
       "      <td>3</td>\n",
       "      <td>Wilkes, Mrs. James (Ellen Needs)</td>\n",
       "      <td>female</td>\n",
       "      <td>47.0</td>\n",
       "      <td>1</td>\n",
       "      <td>0</td>\n",
       "      <td>363272</td>\n",
       "      <td>7.0000</td>\n",
       "      <td>NaN</td>\n",
       "      <td>S</td>\n",
       "    </tr>\n",
       "    <tr>\n",
       "      <th>2</th>\n",
       "      <td>894</td>\n",
       "      <td>2</td>\n",
       "      <td>Myles, Mr. Thomas Francis</td>\n",
       "      <td>male</td>\n",
       "      <td>62.0</td>\n",
       "      <td>0</td>\n",
       "      <td>0</td>\n",
       "      <td>240276</td>\n",
       "      <td>9.6875</td>\n",
       "      <td>NaN</td>\n",
       "      <td>Q</td>\n",
       "    </tr>\n",
       "    <tr>\n",
       "      <th>3</th>\n",
       "      <td>895</td>\n",
       "      <td>3</td>\n",
       "      <td>Wirz, Mr. Albert</td>\n",
       "      <td>male</td>\n",
       "      <td>27.0</td>\n",
       "      <td>0</td>\n",
       "      <td>0</td>\n",
       "      <td>315154</td>\n",
       "      <td>8.6625</td>\n",
       "      <td>NaN</td>\n",
       "      <td>S</td>\n",
       "    </tr>\n",
       "    <tr>\n",
       "      <th>4</th>\n",
       "      <td>896</td>\n",
       "      <td>3</td>\n",
       "      <td>Hirvonen, Mrs. Alexander (Helga E Lindqvist)</td>\n",
       "      <td>female</td>\n",
       "      <td>22.0</td>\n",
       "      <td>1</td>\n",
       "      <td>1</td>\n",
       "      <td>3101298</td>\n",
       "      <td>12.2875</td>\n",
       "      <td>NaN</td>\n",
       "      <td>S</td>\n",
       "    </tr>\n",
       "  </tbody>\n",
       "</table>\n",
       "</div>"
      ],
      "text/plain": [
       "   PassengerId  Pclass                                          Name     Sex  \\\n",
       "0          892       3                              Kelly, Mr. James    male   \n",
       "1          893       3              Wilkes, Mrs. James (Ellen Needs)  female   \n",
       "2          894       2                     Myles, Mr. Thomas Francis    male   \n",
       "3          895       3                              Wirz, Mr. Albert    male   \n",
       "4          896       3  Hirvonen, Mrs. Alexander (Helga E Lindqvist)  female   \n",
       "\n",
       "    Age  SibSp  Parch   Ticket     Fare Cabin Embarked  \n",
       "0  34.5      0      0   330911   7.8292   NaN        Q  \n",
       "1  47.0      1      0   363272   7.0000   NaN        S  \n",
       "2  62.0      0      0   240276   9.6875   NaN        Q  \n",
       "3  27.0      0      0   315154   8.6625   NaN        S  \n",
       "4  22.0      1      1  3101298  12.2875   NaN        S  "
      ]
     },
     "execution_count": 122,
     "metadata": {},
     "output_type": "execute_result"
    }
   ],
   "source": [
    "# Lendo e visualizando a base de dados de treino\n",
    "test = pd.read_csv(\"Files/test.csv\")\n",
    "test.head()"
   ]
  },
  {
   "cell_type": "markdown",
   "id": "115f9107",
   "metadata": {},
   "source": [
    "### Nessa primeira análise vamos apenas trainar nossos modelos com as colunas **Sex** e **Age**"
   ]
  },
  {
   "cell_type": "code",
   "execution_count": 123,
   "id": "ebf9ab72",
   "metadata": {},
   "outputs": [],
   "source": [
    "# Dados de interesse\n",
    "train = train[[\"PassengerId\", \"Survived\", \"Sex\", \"Age\"]]\n",
    "test = test[[\"PassengerId\", \"Sex\", \"Age\"]]"
   ]
  },
  {
   "cell_type": "code",
   "execution_count": 124,
   "id": "2686ac57",
   "metadata": {},
   "outputs": [
    {
     "data": {
      "text/plain": [
       "male      577\n",
       "female    314\n",
       "Name: Sex, dtype: int64"
      ]
     },
     "execution_count": 124,
     "metadata": {},
     "output_type": "execute_result"
    }
   ],
   "source": [
    "# Valores na coluna Sex\n",
    "train[\"Sex\"].value_counts()"
   ]
  },
  {
   "cell_type": "markdown",
   "id": "3d9e028e",
   "metadata": {},
   "source": [
    "- Para coluna **Sex** podemos transformar os dados em binário. 1 = famele | 0 = male"
   ]
  },
  {
   "cell_type": "code",
   "execution_count": 125,
   "id": "7ae71fd4",
   "metadata": {},
   "outputs": [],
   "source": [
    "# Convertendo a coluna Sex para binário\n",
    "train['Sex_binary'] = train[\"Sex\"].apply(lambda x: 1 if  x == \"female\" else 0)"
   ]
  },
  {
   "cell_type": "code",
   "execution_count": 126,
   "id": "8695a5f5",
   "metadata": {},
   "outputs": [],
   "source": [
    "# Fazendo a mesma conversão para base de teste\n",
    "test['Sex_binary'] = test[\"Sex\"].apply(lambda x: 1 if  x == \"female\" else 0)"
   ]
  },
  {
   "cell_type": "code",
   "execution_count": 127,
   "id": "7451cb54",
   "metadata": {},
   "outputs": [],
   "source": [
    "# Eliminando coluna Sex das bases de dados\n",
    "train = train.drop(\"Sex\", axis=1)\n",
    "test = test.drop(\"Sex\", axis=1)"
   ]
  },
  {
   "cell_type": "markdown",
   "id": "0923dd85",
   "metadata": {},
   "source": [
    "- Para coluna Age podemos substituir o valores nulos pela média"
   ]
  },
  {
   "cell_type": "code",
   "execution_count": 128,
   "id": "88e15faa",
   "metadata": {},
   "outputs": [],
   "source": [
    "# Alterando os valores nulos na coluna Age, pela média base de treino\n",
    "train.loc[train.Age.isnull(), \"Age\"] = train[\"Age\"].mean()"
   ]
  },
  {
   "cell_type": "code",
   "execution_count": 129,
   "id": "a7303ff3",
   "metadata": {},
   "outputs": [],
   "source": [
    "# Alterando os valores nulos na coluna Age, pela média base de teste\n",
    "test.loc[test.Age.isnull(), \"Age\"] = test[\"Age\"].mean()"
   ]
  },
  {
   "cell_type": "markdown",
   "id": "9dfc03c9",
   "metadata": {},
   "source": [
    "-------"
   ]
  },
  {
   "cell_type": "markdown",
   "id": "6d855feb",
   "metadata": {},
   "source": [
    "# Criando Modelos"
   ]
  },
  {
   "cell_type": "markdown",
   "id": "b7914413",
   "metadata": {},
   "source": [
    "- Separando dados entre Treino e Validação"
   ]
  },
  {
   "cell_type": "code",
   "execution_count": 130,
   "id": "4c5d55d4",
   "metadata": {},
   "outputs": [],
   "source": [
    "# Importando o train_test_split do Sklearn\n",
    "from sklearn.model_selection import train_test_split"
   ]
  },
  {
   "cell_type": "code",
   "execution_count": 131,
   "id": "5032c16a",
   "metadata": {},
   "outputs": [],
   "source": [
    "# Separando a base de dados de entre X e y\n",
    "X = train_num.drop([\"PassengerId\", \"Survived\"], axis=1)\n",
    "y = train_num[\"Survived\"]"
   ]
  },
  {
   "cell_type": "code",
   "execution_count": 132,
   "id": "28069c70",
   "metadata": {},
   "outputs": [],
   "source": [
    "# Separando dados de treino entre Treino e Validação\n",
    "train_X, valid_X, train_y, valid_y = train_test_split(X, y, random_state=1)"
   ]
  },
  {
   "cell_type": "markdown",
   "id": "1ad2f814",
   "metadata": {},
   "source": [
    "### Modelo Random Forest"
   ]
  },
  {
   "cell_type": "code",
   "execution_count": 133,
   "id": "9ad2240d",
   "metadata": {},
   "outputs": [],
   "source": [
    "# importando modelo e acurácia\n",
    "from sklearn.ensemble import RandomForestClassifier\n",
    "from sklearn.metrics import accuracy_score"
   ]
  },
  {
   "cell_type": "code",
   "execution_count": 134,
   "id": "ff160872",
   "metadata": {
    "scrolled": true
   },
   "outputs": [
    {
     "data": {
      "text/plain": [
       "RandomForestClassifier(random_state=1)"
      ]
     },
     "execution_count": 134,
     "metadata": {},
     "output_type": "execute_result"
    }
   ],
   "source": [
    "# Treinando o Modelo\n",
    "modelo_rf = RandomForestClassifier(random_state=1)\n",
    "modelo_rf.fit(train_X, train_y)"
   ]
  },
  {
   "cell_type": "code",
   "execution_count": 135,
   "id": "e696d5f3",
   "metadata": {},
   "outputs": [],
   "source": [
    "# Predizendo os dados de Validação\n",
    "predicao_rf = modelo_rf.predict(valid_X)"
   ]
  },
  {
   "cell_type": "code",
   "execution_count": 136,
   "id": "41880776",
   "metadata": {},
   "outputs": [],
   "source": [
    "# Acurácia entre a predição e dados reais\n",
    "acuracia_rf = accuracy_score(valid_y, predicao_rf)"
   ]
  },
  {
   "cell_type": "markdown",
   "id": "f6794966",
   "metadata": {},
   "source": [
    "### Modelo KNeighborsClassifer"
   ]
  },
  {
   "cell_type": "code",
   "execution_count": 137,
   "id": "1f1142bf",
   "metadata": {},
   "outputs": [],
   "source": [
    "# Importando\n",
    "from sklearn.neighbors import KNeighborsClassifier"
   ]
  },
  {
   "cell_type": "code",
   "execution_count": 138,
   "id": "269bd52b",
   "metadata": {},
   "outputs": [
    {
     "data": {
      "text/plain": [
       "KNeighborsClassifier(n_neighbors=3)"
      ]
     },
     "execution_count": 138,
     "metadata": {},
     "output_type": "execute_result"
    }
   ],
   "source": [
    "# Treinando o Modelo\n",
    "modelo_kn = KNeighborsClassifier(n_neighbors=3)\n",
    "modelo_kn.fit(train_X, train_y)"
   ]
  },
  {
   "cell_type": "code",
   "execution_count": 139,
   "id": "b1401fe7",
   "metadata": {},
   "outputs": [],
   "source": [
    "# Predizendo os dados de Validação\n",
    "predicao_kn = modelo_kn.predict(valid_X)"
   ]
  },
  {
   "cell_type": "code",
   "execution_count": 140,
   "id": "30a383e2",
   "metadata": {},
   "outputs": [],
   "source": [
    "# Acurácia entre a predição e dados reais\n",
    "acuracia_kn = accuracy_score(valid_y, predicao_kn)"
   ]
  },
  {
   "cell_type": "markdown",
   "id": "ec2d82d6",
   "metadata": {},
   "source": [
    "### Modelo Regressão Logística"
   ]
  },
  {
   "cell_type": "code",
   "execution_count": 141,
   "id": "8fc4fbb5",
   "metadata": {},
   "outputs": [],
   "source": [
    "# Importando\n",
    "from sklearn.linear_model import LogisticRegression"
   ]
  },
  {
   "cell_type": "code",
   "execution_count": 142,
   "id": "394390d0",
   "metadata": {},
   "outputs": [
    {
     "data": {
      "text/plain": [
       "LogisticRegression(max_iter=1000, random_state=1)"
      ]
     },
     "execution_count": 142,
     "metadata": {},
     "output_type": "execute_result"
    }
   ],
   "source": [
    "# Treinando o Modelo\n",
    "modelo_lr = LogisticRegression(random_state=1, max_iter=1000)\n",
    "modelo_lr.fit(train_X, train_y)"
   ]
  },
  {
   "cell_type": "code",
   "execution_count": 143,
   "id": "cdacfebf",
   "metadata": {},
   "outputs": [],
   "source": [
    "# Predizendo os dados de Validação\n",
    "predicao_lr = modelo_lr.predict(valid_X)"
   ]
  },
  {
   "cell_type": "code",
   "execution_count": 144,
   "id": "62f2fccf",
   "metadata": {},
   "outputs": [],
   "source": [
    "# Acurácia entre a predição e dados reais\n",
    "acuracia_lr = accuracy_score(valid_y, predicao_lr)"
   ]
  },
  {
   "cell_type": "markdown",
   "id": "b03c1435",
   "metadata": {},
   "source": [
    "### Resultados de Modelagem"
   ]
  },
  {
   "cell_type": "code",
   "execution_count": 145,
   "id": "5c5b5624",
   "metadata": {},
   "outputs": [
    {
     "name": "stdout",
     "output_type": "stream",
     "text": [
      "Acurácia Modelo RandomForest: 0.6502242152466368\n",
      "\n",
      "Acurácia Modelo KNeighborsClassifer: 0.6860986547085202\n",
      "\n",
      "Acurácia Modelo LogisticRegression: 0.6591928251121076\n"
     ]
    }
   ],
   "source": [
    "print(f\"Acurácia Modelo RandomForest: {acuracia_rf}\\n\")\n",
    "print(f\"Acurácia Modelo KNeighborsClassifer: {acuracia_kn}\\n\")\n",
    "print(f\"Acurácia Modelo LogisticRegression: {acuracia_lr}\")"
   ]
  },
  {
   "cell_type": "markdown",
   "id": "1589a1cb",
   "metadata": {},
   "source": [
    "#  Predizendo os dados de Teste com o modelo KNeighborsClassifer"
   ]
  },
  {
   "cell_type": "code",
   "execution_count": 146,
   "id": "0229a6e9",
   "metadata": {},
   "outputs": [],
   "source": [
    "X_train = train.drop([\"PassengerId\", \"Survived\"], axis=1)\n",
    "y_train = train[\"Survived\"]"
   ]
  },
  {
   "cell_type": "code",
   "execution_count": 147,
   "id": "222ef413",
   "metadata": {},
   "outputs": [],
   "source": [
    "X_test = test.drop(\"PassengerId\", axis=1)"
   ]
  },
  {
   "cell_type": "code",
   "execution_count": 150,
   "id": "cb3d2e88",
   "metadata": {},
   "outputs": [
    {
     "data": {
      "text/plain": [
       "KNeighborsClassifier(n_neighbors=3)"
      ]
     },
     "execution_count": 150,
     "metadata": {},
     "output_type": "execute_result"
    }
   ],
   "source": [
    "# Treinando o Modelo\n",
    "modelo_final = KNeighborsClassifier(n_neighbors=3)\n",
    "modelo_final.fit(X_train, y_train)"
   ]
  },
  {
   "cell_type": "code",
   "execution_count": 151,
   "id": "cdcf5cf6",
   "metadata": {},
   "outputs": [],
   "source": [
    "# Predizendo os dados de Validação\n",
    "predicao_final = modelo_final.predict(X_test)"
   ]
  },
  {
   "cell_type": "code",
   "execution_count": 153,
   "id": "c3579ca5",
   "metadata": {},
   "outputs": [],
   "source": [
    "sub = pd.Series(predicao_final, index=test[\"PassengerId\"], name=\"Survived\")\n",
    "sub.to_csv(\"Files/Primeira_predicao.csv\", header=True)"
   ]
  }
 ],
 "metadata": {
  "kernelspec": {
   "display_name": "Python 3 (ipykernel)",
   "language": "python",
   "name": "python3"
  },
  "language_info": {
   "codemirror_mode": {
    "name": "ipython",
    "version": 3
   },
   "file_extension": ".py",
   "mimetype": "text/x-python",
   "name": "python",
   "nbconvert_exporter": "python",
   "pygments_lexer": "ipython3",
   "version": "3.10.13"
  }
 },
 "nbformat": 4,
 "nbformat_minor": 5
}
