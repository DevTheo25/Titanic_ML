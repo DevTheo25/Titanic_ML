{
 "cells": [
  {
   "cell_type": "code",
   "execution_count": 61,
   "id": "1eb890f3",
   "metadata": {},
   "outputs": [],
   "source": [
    "import pandas as pd\n",
    "import numpy as np"
   ]
  },
  {
   "cell_type": "code",
   "execution_count": 62,
   "id": "aafcf53c",
   "metadata": {},
   "outputs": [],
   "source": [
    "train = pd.read_csv(\"Files/train.csv\")\n",
    "test = pd.read_csv(\"Files/test.csv\")"
   ]
  },
  {
   "cell_type": "code",
   "execution_count": 66,
   "id": "4f9da79f",
   "metadata": {},
   "outputs": [],
   "source": [
    "def sex_to_binary(valor):\n",
    "    if valor == \"female\":\n",
    "        return 1\n",
    "    else:\n",
    "        return 0\n",
    "    \n",
    "train[\"Sex_binary\"] = train[\"Sex\"].map(sex_to_binary)\n",
    "test[\"Sex_binary\"] = test[\"Sex\"].map(sex_to_binary)"
   ]
  },
  {
   "cell_type": "code",
   "execution_count": 71,
   "id": "e278b4ac",
   "metadata": {},
   "outputs": [],
   "source": [
    "train = train.fillna(-1)\n",
    "test = test.fillna(-1)"
   ]
  },
  {
   "cell_type": "code",
   "execution_count": 72,
   "id": "b7d47f4c",
   "metadata": {},
   "outputs": [],
   "source": [
    "from sklearn.ensemble import RandomForestClassifier"
   ]
  },
  {
   "cell_type": "code",
   "execution_count": 88,
   "id": "b822f765",
   "metadata": {},
   "outputs": [],
   "source": [
    "variaveis = [\"Sex_binary\", \"Age\"]\n",
    "\n",
    "X_train = train[variaveis]\n",
    "y_train = train[\"Survived\"]"
   ]
  },
  {
   "cell_type": "code",
   "execution_count": 74,
   "id": "457395ce",
   "metadata": {},
   "outputs": [
    {
     "data": {
      "text/plain": [
       "RandomForestClassifier(n_jobs=1, random_state=0)"
      ]
     },
     "execution_count": 74,
     "metadata": {},
     "output_type": "execute_result"
    }
   ],
   "source": [
    "modelo = RandomForestClassifier(n_estimators=100, n_jobs=1, random_state=0)\n",
    "modelo.fit(X_train,y_train)"
   ]
  },
  {
   "cell_type": "code",
   "execution_count": 75,
   "id": "7c8f7db2",
   "metadata": {},
   "outputs": [],
   "source": [
    "X_test = test[variaveis]\n",
    "predictions = modelo.predict(X_test)"
   ]
  },
  {
   "cell_type": "code",
   "execution_count": 89,
   "id": "6c33e02d",
   "metadata": {},
   "outputs": [],
   "source": [
    "sub = pd.Series(predictions, index=test[\"PassengerId\"], name=\"Survived\")"
   ]
  },
  {
   "cell_type": "code",
   "execution_count": 85,
   "id": "089c89b5",
   "metadata": {},
   "outputs": [],
   "source": [
    "sub.to_csv(\"Files/Primeiro_modelo.csv\", header=True)"
   ]
  }
 ],
 "metadata": {
  "kernelspec": {
   "display_name": "Python 3 (ipykernel)",
   "language": "python",
   "name": "python3"
  },
  "language_info": {
   "codemirror_mode": {
    "name": "ipython",
    "version": 3
   },
   "file_extension": ".py",
   "mimetype": "text/x-python",
   "name": "python",
   "nbconvert_exporter": "python",
   "pygments_lexer": "ipython3",
   "version": "3.9.12"
  }
 },
 "nbformat": 4,
 "nbformat_minor": 5
}
