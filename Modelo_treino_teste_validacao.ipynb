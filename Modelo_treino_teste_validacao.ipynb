{
 "cells": [
  {
   "cell_type": "code",
   "execution_count": 1,
   "id": "1eb890f3",
   "metadata": {},
   "outputs": [],
   "source": [
    "import pandas as pd\n",
    "import numpy as np"
   ]
  },
  {
   "cell_type": "code",
   "execution_count": 2,
   "id": "aafcf53c",
   "metadata": {},
   "outputs": [],
   "source": [
    "train = pd.read_csv(\"Files/train.csv\")\n",
    "test = pd.read_csv(\"Files/test.csv\")"
   ]
  },
  {
   "cell_type": "code",
   "execution_count": 3,
   "id": "4f9da79f",
   "metadata": {},
   "outputs": [],
   "source": [
    "def sex_to_binary(valor):\n",
    "    if valor == \"female\":\n",
    "        return 1\n",
    "    else:\n",
    "        return 0\n",
    "    \n",
    "train[\"Sex_binary\"] = train[\"Sex\"].map(sex_to_binary)\n",
    "test[\"Sex_binary\"] = test[\"Sex\"].map(sex_to_binary)"
   ]
  },
  {
   "cell_type": "code",
   "execution_count": 4,
   "id": "e278b4ac",
   "metadata": {},
   "outputs": [],
   "source": [
    "train = train.fillna(-1)\n",
    "test = test.fillna(-1)"
   ]
  },
  {
   "cell_type": "code",
   "execution_count": 16,
   "id": "b7d47f4c",
   "metadata": {},
   "outputs": [],
   "source": [
    "from sklearn.ensemble import RandomForestClassifier\n",
    "from sklearn.model_selection import train_test_split\n",
    "from sklearn.metrics import mean_absolute_error"
   ]
  },
  {
   "cell_type": "code",
   "execution_count": 7,
   "id": "b822f765",
   "metadata": {},
   "outputs": [],
   "source": [
    "variaveis = [\"Sex_binary\", \"Age\"]\n",
    "\n",
    "X = train[variaveis]\n",
    "y = train[\"Survived\"]"
   ]
  },
  {
   "cell_type": "code",
   "execution_count": 20,
   "id": "9817e1a1",
   "metadata": {},
   "outputs": [],
   "source": [
    "train_X, valid_X, train_y, valid_y = train_test_split(X, y, random_state=0)"
   ]
  },
  {
   "cell_type": "code",
   "execution_count": 21,
   "id": "457395ce",
   "metadata": {},
   "outputs": [
    {
     "data": {
      "text/plain": [
       "RandomForestClassifier(n_jobs=1, random_state=0)"
      ]
     },
     "execution_count": 21,
     "metadata": {},
     "output_type": "execute_result"
    }
   ],
   "source": [
    "modelo = RandomForestClassifier(n_estimators=100, n_jobs=1, random_state=0)\n",
    "modelo.fit(train_X,train_y)"
   ]
  },
  {
   "cell_type": "code",
   "execution_count": 22,
   "id": "7c8f7db2",
   "metadata": {},
   "outputs": [],
   "source": [
    "predictions = modelo.predict(valid_X)"
   ]
  },
  {
   "cell_type": "code",
   "execution_count": 23,
   "id": "f9c78ac1",
   "metadata": {},
   "outputs": [
    {
     "data": {
      "text/plain": [
       "0.7668161434977578"
      ]
     },
     "execution_count": 23,
     "metadata": {},
     "output_type": "execute_result"
    }
   ],
   "source": [
    "np.mean(predictions == valid_y)"
   ]
  },
  {
   "cell_type": "code",
   "execution_count": null,
   "id": "80359722",
   "metadata": {},
   "outputs": [],
   "source": []
  }
 ],
 "metadata": {
  "kernelspec": {
   "display_name": "Python 3 (ipykernel)",
   "language": "python",
   "name": "python3"
  },
  "language_info": {
   "codemirror_mode": {
    "name": "ipython",
    "version": 3
   },
   "file_extension": ".py",
   "mimetype": "text/x-python",
   "name": "python",
   "nbconvert_exporter": "python",
   "pygments_lexer": "ipython3",
   "version": "3.9.12"
  }
 },
 "nbformat": 4,
 "nbformat_minor": 5
}
